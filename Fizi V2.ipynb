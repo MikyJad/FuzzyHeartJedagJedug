{
 "cells": [
  {
   "cell_type": "markdown",
   "id": "328485f1-bc42-4a59-9fce-1efd4ec4e002",
   "metadata": {},
   "source": [
    "### Persiapan"
   ]
  },
  {
   "cell_type": "code",
   "execution_count": 36,
   "id": "71511602-acb2-4a16-9410-da4ee780a982",
   "metadata": {},
   "outputs": [],
   "source": [
    "#Import library\n",
    "import numpy as np\n",
    "import pandas as pd\n",
    "import matplotlib.pyplot as plt"
   ]
  },
  {
   "cell_type": "code",
   "execution_count": 3,
   "id": "607fbbdf-b74e-40bd-a49d-f0a68de6826e",
   "metadata": {},
   "outputs": [
    {
     "data": {
      "text/html": [
       "<div>\n",
       "<style scoped>\n",
       "    .dataframe tbody tr th:only-of-type {\n",
       "        vertical-align: middle;\n",
       "    }\n",
       "\n",
       "    .dataframe tbody tr th {\n",
       "        vertical-align: top;\n",
       "    }\n",
       "\n",
       "    .dataframe thead th {\n",
       "        text-align: right;\n",
       "    }\n",
       "</style>\n",
       "<table border=\"1\" class=\"dataframe\">\n",
       "  <thead>\n",
       "    <tr style=\"text-align: right;\">\n",
       "      <th></th>\n",
       "      <th>Age</th>\n",
       "      <th>Sex</th>\n",
       "      <th>ChestPainType</th>\n",
       "      <th>RestingBP</th>\n",
       "      <th>Cholesterol</th>\n",
       "      <th>FastingBS</th>\n",
       "      <th>RestingECG</th>\n",
       "      <th>MaxHR</th>\n",
       "      <th>ExerciseAngina</th>\n",
       "      <th>Oldpeak</th>\n",
       "      <th>ST_Slope</th>\n",
       "      <th>HeartDisease</th>\n",
       "    </tr>\n",
       "  </thead>\n",
       "  <tbody>\n",
       "    <tr>\n",
       "      <th>0</th>\n",
       "      <td>40</td>\n",
       "      <td>M</td>\n",
       "      <td>ATA</td>\n",
       "      <td>140</td>\n",
       "      <td>289</td>\n",
       "      <td>0</td>\n",
       "      <td>Normal</td>\n",
       "      <td>172</td>\n",
       "      <td>N</td>\n",
       "      <td>0.0</td>\n",
       "      <td>Up</td>\n",
       "      <td>0</td>\n",
       "    </tr>\n",
       "    <tr>\n",
       "      <th>1</th>\n",
       "      <td>49</td>\n",
       "      <td>F</td>\n",
       "      <td>NAP</td>\n",
       "      <td>160</td>\n",
       "      <td>180</td>\n",
       "      <td>0</td>\n",
       "      <td>Normal</td>\n",
       "      <td>156</td>\n",
       "      <td>N</td>\n",
       "      <td>1.0</td>\n",
       "      <td>Flat</td>\n",
       "      <td>1</td>\n",
       "    </tr>\n",
       "    <tr>\n",
       "      <th>2</th>\n",
       "      <td>37</td>\n",
       "      <td>M</td>\n",
       "      <td>ATA</td>\n",
       "      <td>130</td>\n",
       "      <td>283</td>\n",
       "      <td>0</td>\n",
       "      <td>ST</td>\n",
       "      <td>98</td>\n",
       "      <td>N</td>\n",
       "      <td>0.0</td>\n",
       "      <td>Up</td>\n",
       "      <td>0</td>\n",
       "    </tr>\n",
       "    <tr>\n",
       "      <th>3</th>\n",
       "      <td>48</td>\n",
       "      <td>F</td>\n",
       "      <td>ASY</td>\n",
       "      <td>138</td>\n",
       "      <td>214</td>\n",
       "      <td>0</td>\n",
       "      <td>Normal</td>\n",
       "      <td>108</td>\n",
       "      <td>Y</td>\n",
       "      <td>1.5</td>\n",
       "      <td>Flat</td>\n",
       "      <td>1</td>\n",
       "    </tr>\n",
       "    <tr>\n",
       "      <th>4</th>\n",
       "      <td>54</td>\n",
       "      <td>M</td>\n",
       "      <td>NAP</td>\n",
       "      <td>150</td>\n",
       "      <td>195</td>\n",
       "      <td>0</td>\n",
       "      <td>Normal</td>\n",
       "      <td>122</td>\n",
       "      <td>N</td>\n",
       "      <td>0.0</td>\n",
       "      <td>Up</td>\n",
       "      <td>0</td>\n",
       "    </tr>\n",
       "    <tr>\n",
       "      <th>...</th>\n",
       "      <td>...</td>\n",
       "      <td>...</td>\n",
       "      <td>...</td>\n",
       "      <td>...</td>\n",
       "      <td>...</td>\n",
       "      <td>...</td>\n",
       "      <td>...</td>\n",
       "      <td>...</td>\n",
       "      <td>...</td>\n",
       "      <td>...</td>\n",
       "      <td>...</td>\n",
       "      <td>...</td>\n",
       "    </tr>\n",
       "    <tr>\n",
       "      <th>913</th>\n",
       "      <td>45</td>\n",
       "      <td>M</td>\n",
       "      <td>TA</td>\n",
       "      <td>110</td>\n",
       "      <td>264</td>\n",
       "      <td>0</td>\n",
       "      <td>Normal</td>\n",
       "      <td>132</td>\n",
       "      <td>N</td>\n",
       "      <td>1.2</td>\n",
       "      <td>Flat</td>\n",
       "      <td>1</td>\n",
       "    </tr>\n",
       "    <tr>\n",
       "      <th>914</th>\n",
       "      <td>68</td>\n",
       "      <td>M</td>\n",
       "      <td>ASY</td>\n",
       "      <td>144</td>\n",
       "      <td>193</td>\n",
       "      <td>1</td>\n",
       "      <td>Normal</td>\n",
       "      <td>141</td>\n",
       "      <td>N</td>\n",
       "      <td>3.4</td>\n",
       "      <td>Flat</td>\n",
       "      <td>1</td>\n",
       "    </tr>\n",
       "    <tr>\n",
       "      <th>915</th>\n",
       "      <td>57</td>\n",
       "      <td>M</td>\n",
       "      <td>ASY</td>\n",
       "      <td>130</td>\n",
       "      <td>131</td>\n",
       "      <td>0</td>\n",
       "      <td>Normal</td>\n",
       "      <td>115</td>\n",
       "      <td>Y</td>\n",
       "      <td>1.2</td>\n",
       "      <td>Flat</td>\n",
       "      <td>1</td>\n",
       "    </tr>\n",
       "    <tr>\n",
       "      <th>916</th>\n",
       "      <td>57</td>\n",
       "      <td>F</td>\n",
       "      <td>ATA</td>\n",
       "      <td>130</td>\n",
       "      <td>236</td>\n",
       "      <td>0</td>\n",
       "      <td>LVH</td>\n",
       "      <td>174</td>\n",
       "      <td>N</td>\n",
       "      <td>0.0</td>\n",
       "      <td>Flat</td>\n",
       "      <td>1</td>\n",
       "    </tr>\n",
       "    <tr>\n",
       "      <th>917</th>\n",
       "      <td>38</td>\n",
       "      <td>M</td>\n",
       "      <td>NAP</td>\n",
       "      <td>138</td>\n",
       "      <td>175</td>\n",
       "      <td>0</td>\n",
       "      <td>Normal</td>\n",
       "      <td>173</td>\n",
       "      <td>N</td>\n",
       "      <td>0.0</td>\n",
       "      <td>Up</td>\n",
       "      <td>0</td>\n",
       "    </tr>\n",
       "  </tbody>\n",
       "</table>\n",
       "<p>746 rows × 12 columns</p>\n",
       "</div>"
      ],
      "text/plain": [
       "     Age Sex ChestPainType  RestingBP  Cholesterol  FastingBS RestingECG  \\\n",
       "0     40   M           ATA        140          289          0     Normal   \n",
       "1     49   F           NAP        160          180          0     Normal   \n",
       "2     37   M           ATA        130          283          0         ST   \n",
       "3     48   F           ASY        138          214          0     Normal   \n",
       "4     54   M           NAP        150          195          0     Normal   \n",
       "..   ...  ..           ...        ...          ...        ...        ...   \n",
       "913   45   M            TA        110          264          0     Normal   \n",
       "914   68   M           ASY        144          193          1     Normal   \n",
       "915   57   M           ASY        130          131          0     Normal   \n",
       "916   57   F           ATA        130          236          0        LVH   \n",
       "917   38   M           NAP        138          175          0     Normal   \n",
       "\n",
       "     MaxHR ExerciseAngina  Oldpeak ST_Slope  HeartDisease  \n",
       "0      172              N      0.0       Up             0  \n",
       "1      156              N      1.0     Flat             1  \n",
       "2       98              N      0.0       Up             0  \n",
       "3      108              Y      1.5     Flat             1  \n",
       "4      122              N      0.0       Up             0  \n",
       "..     ...            ...      ...      ...           ...  \n",
       "913    132              N      1.2     Flat             1  \n",
       "914    141              N      3.4     Flat             1  \n",
       "915    115              Y      1.2     Flat             1  \n",
       "916    174              N      0.0     Flat             1  \n",
       "917    173              N      0.0       Up             0  \n",
       "\n",
       "[746 rows x 12 columns]"
      ]
     },
     "execution_count": 3,
     "metadata": {},
     "output_type": "execute_result"
    }
   ],
   "source": [
    "#Membaca dataset\n",
    "data_raw = pd.read_csv(\"heart.csv\")\n",
    "\n",
    "data_raw = data_raw[(data_raw[\"Cholesterol\"] != 0) & (data_raw[\"RestingBP\"] != 0)]\n",
    "\n",
    "data_raw"
   ]
  },
  {
   "cell_type": "code",
   "execution_count": 4,
   "id": "9bc5789a-95a5-405a-a3e7-2154bbd0efe1",
   "metadata": {},
   "outputs": [
    {
     "name": "stdout",
     "output_type": "stream",
     "text": [
      "\n",
      "Menampilkan 4 atribut yang dipilih dari data mentah:\n",
      "     Age  RestingBP  Cholesterol  MaxHR\n",
      "0     40        140          289    172\n",
      "1     49        160          180    156\n",
      "2     37        130          283     98\n",
      "3     48        138          214    108\n",
      "4     54        150          195    122\n",
      "..   ...        ...          ...    ...\n",
      "913   45        110          264    132\n",
      "914   68        144          193    141\n",
      "915   57        130          131    115\n",
      "916   57        130          236    174\n",
      "917   38        138          175    173\n",
      "\n",
      "[746 rows x 4 columns]\n"
     ]
    }
   ],
   "source": [
    "data = np.array(data_raw)\n",
    "data = data[:, [0, 3, 4, 7]]\n",
    "\n",
    "atribute = [\"Age\", \"RestingBP\", \"Cholesterol\", \"MaxHR\"]\n",
    "\n",
    "kolom_valid_untuk_tampil = [kol for kol in atribute if kol in data_raw.columns]\n",
    "kolom_tidak_ada = [kol for kol in atribute if kol not in data_raw.columns]\n",
    "\n",
    "if kolom_tidak_ada:\n",
    "    print(f\"\\nKolom berikut tidak ditemukan di data mentah: {kolom_tidak_ada}\")\n",
    "\n",
    "if kolom_valid_untuk_tampil:\n",
    "    print(f\"\\nMenampilkan {len(kolom_valid_untuk_tampil)} atribut yang dipilih dari data mentah:\")\n",
    "    print(data_raw[kolom_valid_untuk_tampil])\n",
    "else:\n",
    "    print(\"\\nTidak ada kolom valid yang bisa ditampilkan dari daftar yang Anda minta.\")"
   ]
  },
  {
   "cell_type": "code",
   "execution_count": 5,
   "id": "fa09b22a-c7d3-4717-9c42-d23eeef86a80",
   "metadata": {},
   "outputs": [
    {
     "name": "stdout",
     "output_type": "stream",
     "text": [
      "Rentang umur: \n",
      "Min: 28\n",
      "Max: 77\n",
      "\n",
      "Rentang restingBP: \n",
      "Min: 92\n",
      "Max: 200\n",
      "\n",
      "Rentang kadar kolesterol: \n",
      "Min: 85\n",
      "Max: 603\n",
      "\n",
      "Rentang maximum heart rate: \n",
      "Min: 69\n",
      "Max: 202\n"
     ]
    }
   ],
   "source": [
    "# Rentang umur\n",
    "min_age = np.min(data[:, 0])\n",
    "max_age = np.max(data[:, 0])\n",
    "print(\"Rentang umur: \")\n",
    "print(f\"Min: {min_age}\")\n",
    "print(f\"Max: {max_age}\")\n",
    "print()\n",
    "\n",
    "# Rentang RestingBP\n",
    "min_rbp = np.min(data[:, 1])\n",
    "max_rbp = np.max(data[:, 1])\n",
    "print(\"Rentang restingBP: \")\n",
    "print(f\"Min: {min_rbp}\")\n",
    "print(f\"Max: {max_rbp}\")\n",
    "print()\n",
    "\n",
    "# Rentang kadar kolesterol\n",
    "min_kol = np.min(data[:, 2])\n",
    "max_kol = np.max(data[:, 2])\n",
    "print(\"Rentang kadar kolesterol: \")\n",
    "print(f\"Min: {min_kol}\")\n",
    "print(f\"Max: {max_kol}\")\n",
    "print()\n",
    "\n",
    "# Rentang maximum heart rate\n",
    "min_mhr = np.min(data[:, 3])\n",
    "max_mhr = np.max(data[:, 3])\n",
    "print(\"Rentang maximum heart rate: \")\n",
    "print(f\"Min: {min_mhr}\")\n",
    "print(f\"Max: {max_mhr}\")"
   ]
  },
  {
   "cell_type": "markdown",
   "id": "54cfba91-2abd-4da6-a872-3a9e7045b760",
   "metadata": {},
   "source": [
    "### Input "
   ]
  },
  {
   "cell_type": "code",
   "execution_count": 7,
   "id": "a0633766-597e-40b2-8f9d-3f978ab3be12",
   "metadata": {},
   "outputs": [
    {
     "name": "stdin",
     "output_type": "stream",
     "text": [
      "Masukkan umur:  1\n",
      "Masukkan restingBP:  2\n",
      "Masukkan kolesterol:  3\n",
      "Masukkan maximumHR:  4\n"
     ]
    }
   ],
   "source": [
    "inp_age = input(\"Masukkan umur: \")\n",
    "inp_rbp = input(\"Masukkan restingBP: \")\n",
    "inp_kol = input(\"Masukkan kolesterol: \")\n",
    "inp_mhr = input(\"Masukkan maximumHR: \")"
   ]
  },
  {
   "cell_type": "markdown",
   "id": "ba9eb6d8-8b06-44f2-9149-a0744feeb5e7",
   "metadata": {},
   "source": [
    "### Proses Fuzzification"
   ]
  },
  {
   "cell_type": "code",
   "execution_count": 38,
   "id": "7a6714e8-e44a-4501-b2d5-8aca84623dc8",
   "metadata": {},
   "outputs": [],
   "source": [
    "#Fuzzification\n",
    "pltage = np.arange(0, 96, 1)\n",
    "pltrbp = np.arange(0, 201, 1)\n",
    "pltkol = np.arange(0, 701, 1)\n",
    "pltmhr = np.arange(0, 201, 1)"
   ]
  },
  {
   "cell_type": "code",
   "execution_count": 9,
   "id": "ff2003a6-07b8-4c91-8e7a-925c51bd26bb",
   "metadata": {},
   "outputs": [],
   "source": [
    "# Menghitung Fuzzy\n",
    "def fuzzify_age(age):\n",
    "    if age <= 40:\n",
    "        return 1, 0, 0\n",
    "    elif 40 < age <= 60:\n",
    "        return (60 - age) / 20, (age - 40) / 20, 0\n",
    "    elif 60 < age <= 77:\n",
    "        return 0, (77 - age) / 17, (age - 60) / 17\n",
    "    else:\n",
    "        return 0, 0, 1\n",
    "\n",
    "def fuzzify_rbp(rbp):\n",
    "    if rbp < 120:\n",
    "        return 1, 0, 0\n",
    "    elif 120 <= rbp <= 160:\n",
    "        return (160 - rbp) / 40, (rbp - 120) / 40, 0\n",
    "    elif 160 < rbp <= 200:\n",
    "        return 0, (200 - rbp) / 40, (rbp - 160) / 40\n",
    "    else:\n",
    "        return 0, 0, 1\n",
    "        \n",
    "def fuzzify_kol(kol):\n",
    "    if kol < 150:\n",
    "        return 1, 0, 0\n",
    "    elif 150 <= kol <= 350:\n",
    "        return (350 - kol) / 200, (kol - 150) / 200, 0\n",
    "    elif 350 < kol <= 603:\n",
    "        return 0, (603 - kol) / 253, (kol - 350) / 253\n",
    "    else:\n",
    "        return 0, 0, 1\n",
    "        \n",
    "def fuzzify_mhr(mhr):\n",
    "    if mhr < 110:\n",
    "        return 1, 0, 0\n",
    "    elif 110 <= mhr <= 150:\n",
    "        return (150 - mhr) / 40, (mhr - 110) / 40, 0\n",
    "    elif 150 < mhr <= 202:\n",
    "        return 0, (202 - mhr) / 52, (mhr - 150) / 52\n",
    "    else:\n",
    "        return 0, 0, 1"
   ]
  },
  {
   "cell_type": "code",
   "execution_count": 21,
   "id": "b8cf6a17-1126-472d-955d-1877b3ee172a",
   "metadata": {},
   "outputs": [
    {
     "name": "stdin",
     "output_type": "stream",
     "text": [
      "Masukkan umur (28 - 77):  49\n",
      "Masukkan RestingBP (92 - 200):  150\n",
      "Masukkan Kolesterol (85 - 603):  100\n",
      "Masukkan MaxHR (69 - 202):  100\n"
     ]
    }
   ],
   "source": [
    "inp_age = float(input(\"Masukkan umur (28 - 77): \"))\n",
    "inp_rbp = float(input(\"Masukkan RestingBP (92 - 200): \"))\n",
    "inp_kol = float(input(\"Masukkan Kolesterol (85 - 603): \"))\n",
    "inp_mhr = float(input(\"Masukkan MaxHR (69 - 202): \"))"
   ]
  },
  {
   "cell_type": "code",
   "execution_count": 60,
   "id": "f77bf7f6-f674-4a6e-8e11-3d9ae661940b",
   "metadata": {},
   "outputs": [],
   "source": [
    "age = []\n",
    "rbp = []\n",
    "kol = []\n",
    "mhr = []\n",
    "\n",
    "# Memasukkan nilai fuzzy ke dalam list\n",
    "f1, f2, f3 = fuzzify_age(inp_age)\n",
    "age.append(f1)\n",
    "age.append(f2)\n",
    "age.append(f3)\n",
    "\n",
    "f1, f2, f3 = fuzzify_rbp(inp_rbp)\n",
    "rbp.append(f1)\n",
    "rbp.append(f2)\n",
    "rbp.append(f3)\n",
    "\n",
    "f1, f2, f3 = fuzzify_kol(inp_kol)\n",
    "kol.append(f1)\n",
    "kol.append(f2)\n",
    "kol.append(f3)\n",
    "\n",
    "f1, f2, f3 = fuzzify_mhr(inp_mhr)\n",
    "mhr.append(f1)\n",
    "mhr.append(f2)\n",
    "mhr.append(f3)"
   ]
  },
  {
   "cell_type": "code",
   "execution_count": 62,
   "id": "92aac7d6-15e3-4a29-80b9-157375f5b2fc",
   "metadata": {},
   "outputs": [
    {
     "name": "stdout",
     "output_type": "stream",
     "text": [
      "Nilai umur: \n",
      "Muda: 0.55\n",
      "Dewasa: 0.45\n",
      "Tua: 0\n",
      "\n",
      "Nilai restingBP: \n",
      "Rendah: 0.25\n",
      "Normal: 0.75\n",
      "Tinggi: 0\n",
      "\n",
      "Nilai kolesterol: \n",
      "Rendah: 1\n",
      "Normal: 0\n",
      "Tinggi: 0\n",
      "\n",
      "Nilai maximum heart rate: \n",
      "Rendah: 1\n",
      "Normal: 0\n",
      "Tinggi: 0\n"
     ]
    }
   ],
   "source": [
    "print(\"Nilai umur: \")\n",
    "print(f\"Muda: {age[0]}\")\n",
    "print(f\"Dewasa: {age[1]}\")\n",
    "print(f\"Tua: {age[2]}\\n\")\n",
    "\n",
    "print(\"Nilai restingBP: \")\n",
    "print(f\"Rendah: {rbp[0]}\")\n",
    "print(f\"Normal: {rbp[1]}\")\n",
    "print(f\"Tinggi: {rbp[2]}\\n\")\n",
    "\n",
    "print(\"Nilai kolesterol: \")\n",
    "print(f\"Rendah: {kol[0]}\")\n",
    "print(f\"Normal: {kol[1]}\")\n",
    "print(f\"Tinggi: {kol[2]}\\n\")\n",
    "\n",
    "print(\"Nilai maximum heart rate: \")\n",
    "print(f\"Rendah: {mhr[0]}\")\n",
    "print(f\"Normal: {mhr[1]}\")\n",
    "print(f\"Tinggi: {mhr[2]}\")"
   ]
  },
  {
   "cell_type": "markdown",
   "id": "97d70bef-3a8c-4421-a6bf-0923fa913b40",
   "metadata": {},
   "source": [
    "## Inference / Rule\n",
    "\n",
    "Jika umur = muda, kolesterol = normal, dan maxhr = normal. Maka tidak beresiko"
   ]
  },
  {
   "cell_type": "code",
   "execution_count": 66,
   "id": "1aac5a52-8eb2-4074-b58a-0268c35062c1",
   "metadata": {},
   "outputs": [
    {
     "name": "stdout",
     "output_type": "stream",
     "text": [
      "TIdak beresiko 0\n"
     ]
    }
   ],
   "source": [
    "r1 = min(age[0], kol[0], mhr[0])\n",
    "print(\"TIdak beresiko\", r1)\n",
    "\n",
    "r2 = min(age[0], kol[0], mhr[1])\n",
    "print(\"TIdak beresiko\", r1)\n",
    "\n",
    "r3 = min(age[0], kol[0], mhr[2])\n",
    "print(\"TIdak beresiko\", r1)\n",
    "\n",
    "r4 = min(age[0], kol[1], mhr[0])\n",
    "print(\"TIdak beresiko\", r1)\n",
    "\n",
    "r5 = min(age[0], kol[2], mhr[0])\n",
    "print(\"TIdak beresiko\", r1)\n",
    "\n",
    "r6 = min(age[0], kol[1], mhr[1])\n",
    "print(\"TIdak beresiko\", r1)\n",
    "\n",
    "r7 = min(age[0], kol[1], mhr[2])\n",
    "print(\"TIdak beresiko\", r1)\n",
    "\n",
    "r8 = min(age[0], kol[2], mhr[2])\n",
    "print(\"TIdak beresiko\", r1)\n",
    "\n",
    "r9 = min(age[0], kol[2], mhr[2])\n",
    "print(\"TIdak beresiko\", r1)\n",
    "\n",
    "r10 = min(age[1], kol[0], mhr[0])\n",
    "print(\"TIdak beresiko\", r1)\n",
    "\n",
    "r11 = min(age[1], kol[0], mhr[1])\n",
    "print(\"TIdak beresiko\", r1)\n",
    "\n",
    "r12 = min(age[1], kol[0], mhr[2])\n",
    "print(\"TIdak beresiko\", r1)\n",
    "\n",
    "r13 = min(age[1], kol[1], mhr[0])\n",
    "print(\"TIdak beresiko\", r1)\n",
    "\n",
    "r14 = min(age[1], kol[2], mhr[0])\n",
    "print(\"TIdak beresiko\", r1)\n",
    "\n",
    "r15 = min(age[1], kol[1], mhr[1])\n",
    "print(\"TIdak beresiko\", r1)\n",
    "\n",
    "r16 = min(age[1], kol[1], mhr[2])\n",
    "print(\"TIdak beresiko\", r1)\n",
    "\n",
    "r17 = min(age[1], kol[2], mhr[1])\n",
    "print(\"TIdak beresiko\", r1)\n",
    "\n",
    "r18 = min(age[1], kol[2], mhr[2])\n",
    "print(\"TIdak beresiko\", r1)\n",
    "\n",
    "r19 = min(age[2], kol[0], mhr[0])\n",
    "print(\"TIdak beresiko\", r1)\n",
    "\n",
    "r20 = min(age[2], kol[0], mhr[1])\n",
    "print(\"TIdak beresiko\", r1)\n",
    "\n",
    "r21 = min(age[2], kol[0], mhr[2])\n",
    "print(\"TIdak beresiko\", r1)\n",
    "\n",
    "r22 = min(age[2], kol[1], mhr[0])\n",
    "print(\"TIdak beresiko\", r1)\n",
    "\n",
    "r23 = min(age[2], kol[2], mhr[0])\n",
    "print(\"TIdak beresiko\", r1)\n",
    "\n",
    "r24 = min(age[2], kol[1], mhr[1])\n",
    "print(\"TIdak beresiko\", r1)\n",
    "\n",
    "r25 = min(age[2], kol[1], mhr[2])\n",
    "print(\"TIdak beresiko\", r1)\n",
    "\n",
    "r26 = min(age[2], kol[2], mhr[1])\n",
    "print(\"TIdak beresiko\", r1)\n",
    "\n",
    "r27 = min(age[2], kol[2], mhr[2])\n",
    "print(\"TIdak beresiko\", r1)"
   ]
  },
  {
   "cell_type": "markdown",
   "id": "10497752-dfdf-4f7c-a033-83f99a05197e",
   "metadata": {},
   "source": [
    "## Defuzzification"
   ]
  },
  {
   "cell_type": "code",
   "execution_count": 20,
   "id": "065e8b5a-38b2-4c8d-9490-e3d9db94e942",
   "metadata": {},
   "outputs": [
    {
     "name": "stdin",
     "output_type": "stream",
     "text": [
      "Masukkan umur (28 - 77):  29\n",
      "Masukkan RestingBP (92 - 200):  100\n",
      "Masukkan Kolesterol (85 - 603):  100\n",
      "Masukkan MaxHR (69 - 202):  90\n"
     ]
    },
    {
     "name": "stdout",
     "output_type": "stream",
     "text": [
      "\n",
      "Hasil Fuzzification dalam bentuk tabel:\n",
      "  Kategori  Umur  RestingBP  Kolesterol  MaxHR\n",
      "0     Muda     1          1           1      1\n",
      "1   Dewasa     0          0           0      0\n",
      "2      Tua     0          0           0      0\n",
      "{'Muda': 1, 'Dewasa': 0, 'Tua': 0}\n"
     ]
    }
   ],
   "source": [
    "def fuzzify_age(age):\n",
    "    if age <= 40:\n",
    "        return {\"Muda\": 1, \"Dewasa\": 0, \"Tua\": 0}\n",
    "    elif 40 < age <= 60:\n",
    "        return {\"Muda\": (60 - age) / 20, \"Dewasa\": (age - 40) / 20, \"Tua\": 0}\n",
    "    elif 60 < age <= 77:\n",
    "        return {\"Muda\": 0, \"Dewasa\": (77 - age) / 17, \"Tua\": (age - 60) / 17}\n",
    "    else:\n",
    "        return {\"Muda\": 0, \"Dewasa\": 0, \"Tua\": 1}\n",
    "def fuzzify_rbp(rbp):\n",
    "    if rbp < 120:\n",
    "        return {\"Rendah\": 1, \"Normal\": 0, \"Tinggi\": 0}\n",
    "    elif 120 <= rbp <= 160:\n",
    "        return {\"Rendah\": (160 - rbp) / 40, \"Normal\": (rbp - 120) / 40, \"Tinggi\": 0}\n",
    "    elif 160 < rbp <= 200:\n",
    "        return {\"Rendah\": 0, \"Normal\": (200 - rbp) / 40, \"Tinggi\": (rbp - 160) / 40}\n",
    "    else:\n",
    "        return {\"Rendah\": 0, \"Normal\": 0, \"Tinggi\": 1}\n",
    "def fuzzify_kol(kol):\n",
    "    if kol < 150:\n",
    "        return {\"Rendah\": 1, \"Normal\": 0, \"Tinggi\": 0}\n",
    "    elif 150 <= kol <= 350:\n",
    "        return {\"Rendah\": (350 - kol) / 200, \"Normal\": (kol - 150) / 200, \"Tinggi\": 0}\n",
    "    elif 350 < kol <= 603:\n",
    "        return {\"Rendah\": 0, \"Normal\": (603 - kol) / 253, \"Tinggi\": (kol - 350) / 253}\n",
    "    else:\n",
    "        return {\"Rendah\": 0, \"Normal\": 0, \"Tinggi\": 1}\n",
    "def fuzzify_mhr(mhr):\n",
    "    if mhr < 110:\n",
    "        return {\"Rendah\": 1, \"Normal\": 0, \"Tinggi\": 0}\n",
    "    elif 110 <= mhr <= 150:\n",
    "        return {\"Rendah\": (150 - mhr) / 40, \"Normal\": (mhr - 110) / 40, \"Tinggi\": 0}\n",
    "    elif 150 < mhr <= 202:\n",
    "        return {\"Rendah\": 0, \"Normal\": (202 - mhr) / 52, \"Tinggi\": (mhr - 150) / 52}\n",
    "    else:\n",
    "        return {\"Rendah\": 0, \"Normal\": 0, \"Tinggi\": 1}\n",
    "def fuzzify_input():\n",
    "    # Meminta input dari pengguna (tanpa meng-assign nilai secara manual)\n",
    "    inp_age = float(input(\"Masukkan umur (28 - 77): \"))\n",
    "    inp_rbp = float(input(\"Masukkan RestingBP (92 - 200): \"))\n",
    "    inp_kol = float(input(\"Masukkan Kolesterol (85 - 603): \"))\n",
    "    inp_mhr = float(input(\"Masukkan MaxHR (69 - 202): \"))\n",
    "\n",
    "    # Fuzzify setiap input\n",
    "    age_fuzzy = fuzzify_age(inp_age)\n",
    "    rbp_fuzzy = fuzzify_rbp(inp_rbp)\n",
    "    kol_fuzzy = fuzzify_kol(inp_kol)\n",
    "    mhr_fuzzy = fuzzify_mhr(inp_mhr)\n",
    "\n",
    "    # Membuat tabel hasil fuzzification menggunakan pandas\n",
    "    fuzz_table = pd.DataFrame({\n",
    "        \"Kategori\": [\"Muda\", \"Dewasa\", \"Tua\"],\n",
    "        \"Umur\": [age_fuzzy[\"Muda\"], age_fuzzy[\"Dewasa\"], age_fuzzy[\"Tua\"]],\n",
    "        \"RestingBP\": [rbp_fuzzy[\"Rendah\"], rbp_fuzzy[\"Normal\"], rbp_fuzzy[\"Tinggi\"]],\n",
    "        \"Kolesterol\": [kol_fuzzy[\"Rendah\"], kol_fuzzy[\"Normal\"], kol_fuzzy[\"Tinggi\"]],\n",
    "        \"MaxHR\": [mhr_fuzzy[\"Rendah\"], mhr_fuzzy[\"Normal\"], mhr_fuzzy[\"Tinggi\"]]\n",
    "    })\n",
    "\n",
    "    # Menampilkan hasil fuzzification dalam bentuk tabel\n",
    "    print(\"\\nHasil Fuzzification dalam bentuk tabel:\")\n",
    "    print(fuzz_table)\n",
    "    print(age_fuzzy)\n",
    "\n",
    "# Panggil fungsi fuzzify_input untuk menerima input dari pengguna\n",
    "fuzzify_input()"
   ]
  },
  {
   "cell_type": "code",
   "execution_count": 11,
   "id": "d94eb1c9-590a-4345-80e2-55b0be0afd0f",
   "metadata": {},
   "outputs": [
    {
     "ename": "NameError",
     "evalue": "name 'age_muda' is not defined",
     "output_type": "error",
     "traceback": [
      "\u001b[1;31m---------------------------------------------------------------------------\u001b[0m",
      "\u001b[1;31mNameError\u001b[0m                                 Traceback (most recent call last)",
      "Cell \u001b[1;32mIn[11], line 3\u001b[0m\n\u001b[0;32m      1\u001b[0m \u001b[38;5;66;03m# Age Fuzzy Sets\u001b[39;00m\n\u001b[0;32m      2\u001b[0m fig \u001b[38;5;241m=\u001b[39m plt\u001b[38;5;241m.\u001b[39mfigure(figsize\u001b[38;5;241m=\u001b[39m(\u001b[38;5;241m8\u001b[39m,\u001b[38;5;241m4\u001b[39m))\n\u001b[1;32m----> 3\u001b[0m plt\u001b[38;5;241m.\u001b[39mplot(age, age_muda, label\u001b[38;5;241m=\u001b[39m\u001b[38;5;124m'\u001b[39m\u001b[38;5;124mMuda\u001b[39m\u001b[38;5;124m'\u001b[39m)\n\u001b[0;32m      4\u001b[0m plt\u001b[38;5;241m.\u001b[39mplot(age, age_paruh_baya, label\u001b[38;5;241m=\u001b[39m\u001b[38;5;124m'\u001b[39m\u001b[38;5;124mParuh Baya\u001b[39m\u001b[38;5;124m'\u001b[39m)\n\u001b[0;32m      5\u001b[0m plt\u001b[38;5;241m.\u001b[39mplot(age, age_tua, label\u001b[38;5;241m=\u001b[39m\u001b[38;5;124m'\u001b[39m\u001b[38;5;124mTua\u001b[39m\u001b[38;5;124m'\u001b[39m)\n",
      "\u001b[1;31mNameError\u001b[0m: name 'age_muda' is not defined"
     ]
    },
    {
     "data": {
      "text/plain": [
       "<Figure size 800x400 with 0 Axes>"
      ]
     },
     "metadata": {},
     "output_type": "display_data"
    }
   ],
   "source": [
    "# Age Fuzzy Sets\n",
    "fig = plt.figure(figsize=(8,4))\n",
    "plt.plot(age, age_muda, label='Muda')\n",
    "plt.plot(age, age_paruh_baya, label='Paruh Baya')\n",
    "plt.plot(age, age_tua, label='Tua')\n",
    "plt.title('Fuzzy Sets for Age')\n",
    "plt.xlabel('Age')\n",
    "plt.ylabel('Membership')\n",
    "plt.legend()"
   ]
  },
  {
   "cell_type": "code",
   "execution_count": 12,
   "id": "7cf6360b-b5ea-4073-ab67-a025f8a83f6f",
   "metadata": {},
   "outputs": [
    {
     "ename": "NameError",
     "evalue": "name 'rbp_low' is not defined",
     "output_type": "error",
     "traceback": [
      "\u001b[1;31m---------------------------------------------------------------------------\u001b[0m",
      "\u001b[1;31mNameError\u001b[0m                                 Traceback (most recent call last)",
      "Cell \u001b[1;32mIn[12], line 3\u001b[0m\n\u001b[0;32m      1\u001b[0m \u001b[38;5;66;03m# RestingBP Fuzzy Sets\u001b[39;00m\n\u001b[0;32m      2\u001b[0m fig \u001b[38;5;241m=\u001b[39m plt\u001b[38;5;241m.\u001b[39mfigure(figsize\u001b[38;5;241m=\u001b[39m(\u001b[38;5;241m8\u001b[39m,\u001b[38;5;241m4\u001b[39m))\n\u001b[1;32m----> 3\u001b[0m plt\u001b[38;5;241m.\u001b[39mplot(rbp, rbp_low, label\u001b[38;5;241m=\u001b[39m\u001b[38;5;124m'\u001b[39m\u001b[38;5;124mLow\u001b[39m\u001b[38;5;124m'\u001b[39m)\n\u001b[0;32m      4\u001b[0m plt\u001b[38;5;241m.\u001b[39mplot(rbp, rbp_medium, label\u001b[38;5;241m=\u001b[39m\u001b[38;5;124m'\u001b[39m\u001b[38;5;124mMedium\u001b[39m\u001b[38;5;124m'\u001b[39m)\n\u001b[0;32m      5\u001b[0m plt\u001b[38;5;241m.\u001b[39mplot(rbp, rbp_high, label\u001b[38;5;241m=\u001b[39m\u001b[38;5;124m'\u001b[39m\u001b[38;5;124mHigh\u001b[39m\u001b[38;5;124m'\u001b[39m)\n",
      "\u001b[1;31mNameError\u001b[0m: name 'rbp_low' is not defined"
     ]
    },
    {
     "data": {
      "text/plain": [
       "<Figure size 800x400 with 0 Axes>"
      ]
     },
     "metadata": {},
     "output_type": "display_data"
    }
   ],
   "source": [
    "# RestingBP Fuzzy Sets\n",
    "fig = plt.figure(figsize=(8,4))\n",
    "plt.plot(rbp, rbp_low, label='Low')\n",
    "plt.plot(rbp, rbp_medium, label='Medium')\n",
    "plt.plot(rbp, rbp_high, label='High')\n",
    "plt.title('Fuzzy Sets for RestingBP')\n",
    "plt.xlabel('Resting BP')\n",
    "plt.ylabel('Membership')\n",
    "plt.legend()"
   ]
  },
  {
   "cell_type": "code",
   "execution_count": 14,
   "id": "ad05af79-bf4d-4b1d-8427-0abd971119de",
   "metadata": {},
   "outputs": [
    {
     "ename": "NameError",
     "evalue": "name 'kol_low' is not defined",
     "output_type": "error",
     "traceback": [
      "\u001b[1;31m---------------------------------------------------------------------------\u001b[0m",
      "\u001b[1;31mNameError\u001b[0m                                 Traceback (most recent call last)",
      "Cell \u001b[1;32mIn[14], line 3\u001b[0m\n\u001b[0;32m      1\u001b[0m \u001b[38;5;66;03m# Cholesterol Fuzzy Sets\u001b[39;00m\n\u001b[0;32m      2\u001b[0m fig \u001b[38;5;241m=\u001b[39m plt\u001b[38;5;241m.\u001b[39mfigure(figsize\u001b[38;5;241m=\u001b[39m(\u001b[38;5;241m8\u001b[39m,\u001b[38;5;241m4\u001b[39m))\n\u001b[1;32m----> 3\u001b[0m plt\u001b[38;5;241m.\u001b[39mplot(kol, kol_low, label\u001b[38;5;241m=\u001b[39m\u001b[38;5;124m'\u001b[39m\u001b[38;5;124mLow\u001b[39m\u001b[38;5;124m'\u001b[39m)\n\u001b[0;32m      4\u001b[0m plt\u001b[38;5;241m.\u001b[39mplot(kol, kol_medium, label\u001b[38;5;241m=\u001b[39m\u001b[38;5;124m'\u001b[39m\u001b[38;5;124mMedium\u001b[39m\u001b[38;5;124m'\u001b[39m)\n\u001b[0;32m      5\u001b[0m plt\u001b[38;5;241m.\u001b[39mplot(kol, kol_high, label\u001b[38;5;241m=\u001b[39m\u001b[38;5;124m'\u001b[39m\u001b[38;5;124mHigh\u001b[39m\u001b[38;5;124m'\u001b[39m)\n",
      "\u001b[1;31mNameError\u001b[0m: name 'kol_low' is not defined"
     ]
    },
    {
     "data": {
      "text/plain": [
       "<Figure size 800x400 with 0 Axes>"
      ]
     },
     "metadata": {},
     "output_type": "display_data"
    }
   ],
   "source": [
    "# Cholesterol Fuzzy Sets\n",
    "fig = plt.figure(figsize=(8,4))\n",
    "plt.plot(kol, kol_low, label='Low')\n",
    "plt.plot(kol, kol_medium, label='Medium')\n",
    "plt.plot(kol, kol_high, label='High')\n",
    "plt.title('Fuzzy Sets for Cholesterol')\n",
    "plt.xlabel('Cholesterol')\n",
    "plt.ylabel('Membership')\n",
    "plt.legend()"
   ]
  },
  {
   "cell_type": "code",
   "execution_count": 16,
   "id": "0cc222b6-caf2-4352-a8e7-2648131c6ec2",
   "metadata": {},
   "outputs": [
    {
     "ename": "NameError",
     "evalue": "name 'mhr_low' is not defined",
     "output_type": "error",
     "traceback": [
      "\u001b[1;31m---------------------------------------------------------------------------\u001b[0m",
      "\u001b[1;31mNameError\u001b[0m                                 Traceback (most recent call last)",
      "Cell \u001b[1;32mIn[16], line 3\u001b[0m\n\u001b[0;32m      1\u001b[0m \u001b[38;5;66;03m# MaxHR Fuzzy Sets\u001b[39;00m\n\u001b[0;32m      2\u001b[0m fig \u001b[38;5;241m=\u001b[39m plt\u001b[38;5;241m.\u001b[39mfigure(figsize\u001b[38;5;241m=\u001b[39m(\u001b[38;5;241m8\u001b[39m,\u001b[38;5;241m4\u001b[39m))\n\u001b[1;32m----> 3\u001b[0m plt\u001b[38;5;241m.\u001b[39mplot(mhr, mhr_low, label\u001b[38;5;241m=\u001b[39m\u001b[38;5;124m'\u001b[39m\u001b[38;5;124mLow\u001b[39m\u001b[38;5;124m'\u001b[39m)\n\u001b[0;32m      4\u001b[0m plt\u001b[38;5;241m.\u001b[39mplot(mhr, mhr_medium, label\u001b[38;5;241m=\u001b[39m\u001b[38;5;124m'\u001b[39m\u001b[38;5;124mMedium\u001b[39m\u001b[38;5;124m'\u001b[39m)\n\u001b[0;32m      5\u001b[0m plt\u001b[38;5;241m.\u001b[39mplot(mhr, mhr_high, label\u001b[38;5;241m=\u001b[39m\u001b[38;5;124m'\u001b[39m\u001b[38;5;124mHigh\u001b[39m\u001b[38;5;124m'\u001b[39m)\n",
      "\u001b[1;31mNameError\u001b[0m: name 'mhr_low' is not defined"
     ]
    },
    {
     "data": {
      "text/plain": [
       "<Figure size 800x400 with 0 Axes>"
      ]
     },
     "metadata": {},
     "output_type": "display_data"
    }
   ],
   "source": [
    "# MaxHR Fuzzy Sets\n",
    "fig = plt.figure(figsize=(8,4))\n",
    "plt.plot(mhr, mhr_low, label='Low')\n",
    "plt.plot(mhr, mhr_medium, label='Medium')\n",
    "plt.plot(mhr, mhr_high, label='High')\n",
    "plt.title('Fuzzy Sets for MaxHR')\n",
    "plt.xlabel('Max HR')\n",
    "plt.ylabel('Membership')\n",
    "plt.legend()"
   ]
  },
  {
   "cell_type": "code",
   "execution_count": null,
   "id": "0c8b6e60-8a30-44a5-8e09-af22257fa88b",
   "metadata": {},
   "outputs": [],
   "source": [
    "plt.tight_layout()\n",
    "plt.show()"
   ]
  }
 ],
 "metadata": {
  "kernelspec": {
   "display_name": "Python [conda env:base] *",
   "language": "python",
   "name": "conda-base-py"
  },
  "language_info": {
   "codemirror_mode": {
    "name": "ipython",
    "version": 3
   },
   "file_extension": ".py",
   "mimetype": "text/x-python",
   "name": "python",
   "nbconvert_exporter": "python",
   "pygments_lexer": "ipython3",
   "version": "3.12.7"
  }
 },
 "nbformat": 4,
 "nbformat_minor": 5
}
