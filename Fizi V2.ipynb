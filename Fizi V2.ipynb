{
 "cells": [
  {
   "cell_type": "code",
   "execution_count": null,
   "id": "71511602-acb2-4a16-9410-da4ee780a982",
   "metadata": {},
   "outputs": [],
   "source": [
    "import numpy as np\n",
    "import maatplotlib.pyplot as plt"
   ]
  },
  {
   "cell_type": "code",
   "execution_count": null,
   "id": "7a6714e8-e44a-4501-b2d5-8aca84623dc8",
   "metadata": {},
   "outputs": [],
   "source": [
    "#semesta\n",
    "tinggi = [\"pendek\", \"sedang\", \"tinggi\"] \n",
    "berat = [\"ringan\", \"normal\", \"berat\"]\n",
    "hasil = [\"kurang\", \"normal\", \"obesitas\"]\n"
   ]
  }
 ],
 "metadata": {
  "kernelspec": {
   "display_name": "Python [conda env:base] *",
   "language": "python",
   "name": "conda-base-py"
  },
  "language_info": {
   "codemirror_mode": {
    "name": "ipython",
    "version": 3
   },
   "file_extension": ".py",
   "mimetype": "text/x-python",
   "name": "python",
   "nbconvert_exporter": "python",
   "pygments_lexer": "ipython3",
   "version": "3.12.7"
  }
 },
 "nbformat": 4,
 "nbformat_minor": 5
}
