{
 "cells": [
  {
   "cell_type": "markdown",
   "id": "328485f1-bc42-4a59-9fce-1efd4ec4e002",
   "metadata": {},
   "source": [
    "### Persiapan"
   ]
  },
  {
   "cell_type": "code",
   "execution_count": 502,
   "id": "71511602-acb2-4a16-9410-da4ee780a982",
   "metadata": {},
   "outputs": [],
   "source": [
    "#Import library\n",
    "import numpy as np\n",
    "import pandas as pd\n",
    "import matplotlib.pyplot as plt"
   ]
  },
  {
   "cell_type": "code",
   "execution_count": 503,
   "id": "607fbbdf-b74e-40bd-a49d-f0a68de6826e",
   "metadata": {},
   "outputs": [
    {
     "data": {
      "text/html": [
       "<div>\n",
       "<style scoped>\n",
       "    .dataframe tbody tr th:only-of-type {\n",
       "        vertical-align: middle;\n",
       "    }\n",
       "\n",
       "    .dataframe tbody tr th {\n",
       "        vertical-align: top;\n",
       "    }\n",
       "\n",
       "    .dataframe thead th {\n",
       "        text-align: right;\n",
       "    }\n",
       "</style>\n",
       "<table border=\"1\" class=\"dataframe\">\n",
       "  <thead>\n",
       "    <tr style=\"text-align: right;\">\n",
       "      <th></th>\n",
       "      <th>Age</th>\n",
       "      <th>Sex</th>\n",
       "      <th>ChestPainType</th>\n",
       "      <th>RestingBP</th>\n",
       "      <th>Cholesterol</th>\n",
       "      <th>FastingBS</th>\n",
       "      <th>RestingECG</th>\n",
       "      <th>MaxHR</th>\n",
       "      <th>ExerciseAngina</th>\n",
       "      <th>Oldpeak</th>\n",
       "      <th>ST_Slope</th>\n",
       "      <th>HeartDisease</th>\n",
       "    </tr>\n",
       "  </thead>\n",
       "  <tbody>\n",
       "    <tr>\n",
       "      <th>0</th>\n",
       "      <td>40</td>\n",
       "      <td>M</td>\n",
       "      <td>ATA</td>\n",
       "      <td>140</td>\n",
       "      <td>289</td>\n",
       "      <td>0</td>\n",
       "      <td>Normal</td>\n",
       "      <td>172</td>\n",
       "      <td>N</td>\n",
       "      <td>0.0</td>\n",
       "      <td>Up</td>\n",
       "      <td>0</td>\n",
       "    </tr>\n",
       "    <tr>\n",
       "      <th>1</th>\n",
       "      <td>49</td>\n",
       "      <td>F</td>\n",
       "      <td>NAP</td>\n",
       "      <td>160</td>\n",
       "      <td>180</td>\n",
       "      <td>0</td>\n",
       "      <td>Normal</td>\n",
       "      <td>156</td>\n",
       "      <td>N</td>\n",
       "      <td>1.0</td>\n",
       "      <td>Flat</td>\n",
       "      <td>1</td>\n",
       "    </tr>\n",
       "    <tr>\n",
       "      <th>2</th>\n",
       "      <td>37</td>\n",
       "      <td>M</td>\n",
       "      <td>ATA</td>\n",
       "      <td>130</td>\n",
       "      <td>283</td>\n",
       "      <td>0</td>\n",
       "      <td>ST</td>\n",
       "      <td>98</td>\n",
       "      <td>N</td>\n",
       "      <td>0.0</td>\n",
       "      <td>Up</td>\n",
       "      <td>0</td>\n",
       "    </tr>\n",
       "    <tr>\n",
       "      <th>3</th>\n",
       "      <td>48</td>\n",
       "      <td>F</td>\n",
       "      <td>ASY</td>\n",
       "      <td>138</td>\n",
       "      <td>214</td>\n",
       "      <td>0</td>\n",
       "      <td>Normal</td>\n",
       "      <td>108</td>\n",
       "      <td>Y</td>\n",
       "      <td>1.5</td>\n",
       "      <td>Flat</td>\n",
       "      <td>1</td>\n",
       "    </tr>\n",
       "    <tr>\n",
       "      <th>4</th>\n",
       "      <td>54</td>\n",
       "      <td>M</td>\n",
       "      <td>NAP</td>\n",
       "      <td>150</td>\n",
       "      <td>195</td>\n",
       "      <td>0</td>\n",
       "      <td>Normal</td>\n",
       "      <td>122</td>\n",
       "      <td>N</td>\n",
       "      <td>0.0</td>\n",
       "      <td>Up</td>\n",
       "      <td>0</td>\n",
       "    </tr>\n",
       "    <tr>\n",
       "      <th>...</th>\n",
       "      <td>...</td>\n",
       "      <td>...</td>\n",
       "      <td>...</td>\n",
       "      <td>...</td>\n",
       "      <td>...</td>\n",
       "      <td>...</td>\n",
       "      <td>...</td>\n",
       "      <td>...</td>\n",
       "      <td>...</td>\n",
       "      <td>...</td>\n",
       "      <td>...</td>\n",
       "      <td>...</td>\n",
       "    </tr>\n",
       "    <tr>\n",
       "      <th>913</th>\n",
       "      <td>45</td>\n",
       "      <td>M</td>\n",
       "      <td>TA</td>\n",
       "      <td>110</td>\n",
       "      <td>264</td>\n",
       "      <td>0</td>\n",
       "      <td>Normal</td>\n",
       "      <td>132</td>\n",
       "      <td>N</td>\n",
       "      <td>1.2</td>\n",
       "      <td>Flat</td>\n",
       "      <td>1</td>\n",
       "    </tr>\n",
       "    <tr>\n",
       "      <th>914</th>\n",
       "      <td>68</td>\n",
       "      <td>M</td>\n",
       "      <td>ASY</td>\n",
       "      <td>144</td>\n",
       "      <td>193</td>\n",
       "      <td>1</td>\n",
       "      <td>Normal</td>\n",
       "      <td>141</td>\n",
       "      <td>N</td>\n",
       "      <td>3.4</td>\n",
       "      <td>Flat</td>\n",
       "      <td>1</td>\n",
       "    </tr>\n",
       "    <tr>\n",
       "      <th>915</th>\n",
       "      <td>57</td>\n",
       "      <td>M</td>\n",
       "      <td>ASY</td>\n",
       "      <td>130</td>\n",
       "      <td>131</td>\n",
       "      <td>0</td>\n",
       "      <td>Normal</td>\n",
       "      <td>115</td>\n",
       "      <td>Y</td>\n",
       "      <td>1.2</td>\n",
       "      <td>Flat</td>\n",
       "      <td>1</td>\n",
       "    </tr>\n",
       "    <tr>\n",
       "      <th>916</th>\n",
       "      <td>57</td>\n",
       "      <td>F</td>\n",
       "      <td>ATA</td>\n",
       "      <td>130</td>\n",
       "      <td>236</td>\n",
       "      <td>0</td>\n",
       "      <td>LVH</td>\n",
       "      <td>174</td>\n",
       "      <td>N</td>\n",
       "      <td>0.0</td>\n",
       "      <td>Flat</td>\n",
       "      <td>1</td>\n",
       "    </tr>\n",
       "    <tr>\n",
       "      <th>917</th>\n",
       "      <td>38</td>\n",
       "      <td>M</td>\n",
       "      <td>NAP</td>\n",
       "      <td>138</td>\n",
       "      <td>175</td>\n",
       "      <td>0</td>\n",
       "      <td>Normal</td>\n",
       "      <td>173</td>\n",
       "      <td>N</td>\n",
       "      <td>0.0</td>\n",
       "      <td>Up</td>\n",
       "      <td>0</td>\n",
       "    </tr>\n",
       "  </tbody>\n",
       "</table>\n",
       "<p>746 rows × 12 columns</p>\n",
       "</div>"
      ],
      "text/plain": [
       "     Age Sex ChestPainType  RestingBP  Cholesterol  FastingBS RestingECG  \\\n",
       "0     40   M           ATA        140          289          0     Normal   \n",
       "1     49   F           NAP        160          180          0     Normal   \n",
       "2     37   M           ATA        130          283          0         ST   \n",
       "3     48   F           ASY        138          214          0     Normal   \n",
       "4     54   M           NAP        150          195          0     Normal   \n",
       "..   ...  ..           ...        ...          ...        ...        ...   \n",
       "913   45   M            TA        110          264          0     Normal   \n",
       "914   68   M           ASY        144          193          1     Normal   \n",
       "915   57   M           ASY        130          131          0     Normal   \n",
       "916   57   F           ATA        130          236          0        LVH   \n",
       "917   38   M           NAP        138          175          0     Normal   \n",
       "\n",
       "     MaxHR ExerciseAngina  Oldpeak ST_Slope  HeartDisease  \n",
       "0      172              N      0.0       Up             0  \n",
       "1      156              N      1.0     Flat             1  \n",
       "2       98              N      0.0       Up             0  \n",
       "3      108              Y      1.5     Flat             1  \n",
       "4      122              N      0.0       Up             0  \n",
       "..     ...            ...      ...      ...           ...  \n",
       "913    132              N      1.2     Flat             1  \n",
       "914    141              N      3.4     Flat             1  \n",
       "915    115              Y      1.2     Flat             1  \n",
       "916    174              N      0.0     Flat             1  \n",
       "917    173              N      0.0       Up             0  \n",
       "\n",
       "[746 rows x 12 columns]"
      ]
     },
     "execution_count": 503,
     "metadata": {},
     "output_type": "execute_result"
    }
   ],
   "source": [
    "#Membaca dataset\n",
    "data_raw = pd.read_csv(\"heart.csv\")\n",
    "\n",
    "data_raw = data_raw[(data_raw[\"Cholesterol\"] != 0) & (data_raw[\"RestingBP\"] != 0)]\n",
    "\n",
    "data_raw"
   ]
  },
  {
   "cell_type": "code",
   "execution_count": 504,
   "id": "9bc5789a-95a5-405a-a3e7-2154bbd0efe1",
   "metadata": {},
   "outputs": [
    {
     "name": "stdout",
     "output_type": "stream",
     "text": [
      "\n",
      "Menampilkan 3 atribut yang dipilih dari data mentah:\n",
      "     Age  Cholesterol  MaxHR\n",
      "0     40          289    172\n",
      "1     49          180    156\n",
      "2     37          283     98\n",
      "3     48          214    108\n",
      "4     54          195    122\n",
      "..   ...          ...    ...\n",
      "913   45          264    132\n",
      "914   68          193    141\n",
      "915   57          131    115\n",
      "916   57          236    174\n",
      "917   38          175    173\n",
      "\n",
      "[746 rows x 3 columns]\n"
     ]
    }
   ],
   "source": [
    "data = np.array(data_raw)\n",
    "data = data[:, [0, 4, 7]]\n",
    "\n",
    "atribute = [\"Age\", \"Cholesterol\", \"MaxHR\"]\n",
    "\n",
    "kolom_valid_untuk_tampil = [kol for kol in atribute if kol in data_raw.columns]\n",
    "kolom_tidak_ada = [kol for kol in atribute if kol not in data_raw.columns]\n",
    "\n",
    "if kolom_tidak_ada:\n",
    "    print(f\"\\nKolom berikut tidak ditemukan di data mentah: {kolom_tidak_ada}\")\n",
    "\n",
    "if kolom_valid_untuk_tampil:\n",
    "    print(f\"\\nMenampilkan {len(kolom_valid_untuk_tampil)} atribut yang dipilih dari data mentah:\")\n",
    "    print(data_raw[kolom_valid_untuk_tampil])\n",
    "else:\n",
    "    print(\"\\nTidak ada kolom valid yang bisa ditampilkan dari daftar yang Anda minta.\")"
   ]
  },
  {
   "cell_type": "code",
   "execution_count": 505,
   "id": "fa09b22a-c7d3-4717-9c42-d23eeef86a80",
   "metadata": {},
   "outputs": [
    {
     "name": "stdout",
     "output_type": "stream",
     "text": [
      "Rentang umur: \n",
      "Min: 28\n",
      "Max: 77\n",
      "\n",
      "Rentang kadar kolesterol: \n",
      "Min: 85\n",
      "Max: 603\n",
      "\n",
      "Rentang maximum heart rate: \n",
      "Min: 69\n",
      "Max: 202\n"
     ]
    }
   ],
   "source": [
    "# Rentang umur\n",
    "min_age = np.min(data[:, 0])\n",
    "max_age = np.max(data[:, 0])\n",
    "print(\"Rentang umur: \")\n",
    "print(f\"Min: {min_age}\")\n",
    "print(f\"Max: {max_age}\")\n",
    "print()\n",
    "\n",
    "# Rentang kadar kolesterol\n",
    "min_kol = np.min(data[:, 1])\n",
    "max_kol = np.max(data[:, 1])\n",
    "print(\"Rentang kadar kolesterol: \")\n",
    "print(f\"Min: {min_kol}\")\n",
    "print(f\"Max: {max_kol}\")\n",
    "print()\n",
    "\n",
    "# Rentang maximum heart rate\n",
    "min_mhr = np.min(data[:, 2])\n",
    "max_mhr = np.max(data[:, 2])\n",
    "print(\"Rentang maximum heart rate: \")\n",
    "print(f\"Min: {min_mhr}\")\n",
    "print(f\"Max: {max_mhr}\")"
   ]
  },
  {
   "cell_type": "markdown",
   "id": "ba9eb6d8-8b06-44f2-9149-a0744feeb5e7",
   "metadata": {},
   "source": [
    "### Proses Fuzzification"
   ]
  },
  {
   "cell_type": "code",
   "execution_count": 507,
   "id": "7a6714e8-e44a-4501-b2d5-8aca84623dc8",
   "metadata": {},
   "outputs": [],
   "source": [
    "#Fuzzification\n",
    "pltage = np.arange(0, 96, 1)\n",
    "pltrbp = np.arange(0, 201, 1)\n",
    "pltkol = np.arange(0, 701, 1)\n",
    "pltmhr = np.arange(0, 201, 1)"
   ]
  },
  {
   "cell_type": "code",
   "execution_count": 508,
   "id": "92b8e196-56c6-407b-b8c8-ae2964c04ce6",
   "metadata": {},
   "outputs": [],
   "source": [
    "\n",
    "def trimf(x, a, b, c):\n",
    "    result = np.zeros_like(x, dtype=float)\n",
    "    \n",
    "    # Bagian pertama (naik dari a ke b)\n",
    "    left = (b - a) != 0\n",
    "    result[left & (x >= a) & (x <= b)] = (x[left & (x >= a) & (x <= b)] - a) / (b - a)\n",
    "    \n",
    "    # Bagian kedua (menurun dari b ke c)\n",
    "    right = (c - b) != 0\n",
    "    result[right & (x >= b) & (x <= c)] = (c - x[right & (x >= b) & (x <= c)]) / (c - b)\n",
    "    \n",
    "    return np.maximum(result, 0)  # Mengembalikan nilai keanggotaan yang lebih besar atau sama dengan 0\n"
   ]
  },
  {
   "cell_type": "code",
   "execution_count": 509,
   "id": "e3d3338b-39aa-4922-8ba0-8d1b356e3855",
   "metadata": {},
   "outputs": [],
   "source": [
    "\n",
    "def trapmf(x, a, b, c, d):\n",
    "    result = np.zeros_like(x, dtype=float)\n",
    "    \n",
    "    # Bagian pertama (meningkat dari a ke b)\n",
    "    left = (b - a) != 0\n",
    "    result[left & (x >= a) & (x <= b)] = (x[left & (x >= a) & (x <= b)] - a) / (b - a)\n",
    "    \n",
    "    # Bagian kedua (tetap 1 antara b dan c)\n",
    "    middle = (c - b) != 0\n",
    "    result[middle & (x > b) & (x <= c)] = 1\n",
    "    \n",
    "    # Bagian ketiga (menurun dari c ke d)\n",
    "    right = (d - c) != 0\n",
    "    result[right & (x > c) & (x <= d)] = (d - x[right & (x > c) & (x <= d)]) / (d - c)\n",
    "    \n",
    "    return np.maximum(result, 0)  # Mengembalikan nilai keanggotaan yang lebih besar atau sama dengan 0\n"
   ]
  },
  {
   "cell_type": "code",
   "execution_count": 510,
   "id": "ad05af79-bf4d-4b1d-8427-0abd971119de",
   "metadata": {},
   "outputs": [],
   "source": [
    "x_age = np.linspace(0, 100, 1000)\n",
    "x_kol = np.linspace(0, 600, 1000)\n",
    "x_mhr = np.linspace(0, 200, 1000)"
   ]
  },
  {
   "cell_type": "code",
   "execution_count": 511,
   "id": "57821519-e7ec-412f-a98e-c4e696ee7359",
   "metadata": {},
   "outputs": [
    {
     "data": {
      "text/plain": [
       "<Figure size 1200x800 with 0 Axes>"
      ]
     },
     "execution_count": 511,
     "metadata": {},
     "output_type": "execute_result"
    },
    {
     "data": {
      "text/plain": [
       "<Figure size 1200x800 with 0 Axes>"
      ]
     },
     "metadata": {},
     "output_type": "display_data"
    }
   ],
   "source": [
    "# Mendapatkan nilai fuzzy untuk Umur, Kolesterol, dan MHR\n",
    "age_young = trapmf(x_age, 0, 0, 35, 40)\n",
    "age_adult = trapmf(x_age, 35, 40, 55, 60)\n",
    "age_old = trapmf(x_age, 55, 60, 100, 100)\n",
    "\n",
    "kol_low = trapmf(x_kol, 0, 0, 150, 200)\n",
    "kol_normal = trimf(x_kol, 175, 225, 275)  # Kolesterol Sedang menggunakan trimf\n",
    "kol_high = trapmf(x_kol, 250, 300, 600, 600)\n",
    "\n",
    "mhr_low = trapmf(x_mhr, 0, 0, 80, 90)\n",
    "mhr_normal = trapmf(x_mhr, 80, 90, 150, 160)\n",
    "mhr_high = trapmf(x_mhr, 150, 160, 200, 200)\n",
    "\n",
    "# Plotting hasil fuzzyfication\n",
    "plt.figure(figsize=(12, 8))"
   ]
  },
  {
   "cell_type": "code",
   "execution_count": 512,
   "id": "079cdf6a-641c-4b02-9d54-585479dcde16",
   "metadata": {},
   "outputs": [
    {
     "data": {
      "text/plain": [
       "<matplotlib.legend.Legend at 0x290df3840b0>"
      ]
     },
     "execution_count": 512,
     "metadata": {},
     "output_type": "execute_result"
    },
    {
     "data": {
      "image/png": "[encoded data removed]",
      "text/plain": [
       "<Figure size 640x480 with 1 Axes>"
      ]
     },
     "metadata": {},
     "output_type": "display_data"
    }
   ],
   "source": [
    "# Plot untuk Umur\n",
    "plt.subplot(3, 1, 1)\n",
    "plt.plot(x_age, age_young, label='Muda', color='blue')\n",
    "plt.plot(x_age, age_adult, label='Paruh Baya', color='green')\n",
    "plt.plot(x_age, age_old, label='Tua', color='red')\n",
    "plt.title('Fuzzyfication Umur')\n",
    "plt.xlabel('Usia')\n",
    "plt.ylabel('Keanggotaan')\n",
    "plt.legend()"
   ]
  },
  {
   "cell_type": "code",
   "execution_count": 513,
   "id": "a94079f1-0738-4844-ac58-1c4ed64064a9",
   "metadata": {},
   "outputs": [
    {
     "data": {
      "text/plain": [
       "<matplotlib.legend.Legend at 0x290dffda360>"
      ]
     },
     "execution_count": 513,
     "metadata": {},
     "output_type": "execute_result"
    },
    {
     "data": {
      "image/png": "[encoded data removed]",
      "text/plain": [
       "<Figure size 640x480 with 1 Axes>"
      ]
     },
     "metadata": {},
     "output_type": "display_data"
    }
   ],
   "source": [
    "# Plot untuk Kolesterol\n",
    "plt.subplot(3, 1, 2)\n",
    "plt.plot(x_kol, kol_low, label='Rendah', color='blue')\n",
    "plt.plot(x_kol, kol_normal, label='Normal', color='green')\n",
    "plt.plot(x_kol, kol_high, label='Tinggi', color='red')\n",
    "plt.title('Fuzzyfication Kolesterol')\n",
    "plt.xlabel('Kolesterol')\n",
    "plt.ylabel('Keanggotaan')\n",
    "plt.legend()"
   ]
  },
  {
   "cell_type": "code",
   "execution_count": 514,
   "id": "54a070b1-fdd8-4953-8692-2134cd06a6e9",
   "metadata": {},
   "outputs": [
    {
     "data": {
      "text/plain": [
       "<matplotlib.legend.Legend at 0x290dfeaac30>"
      ]
     },
     "execution_count": 514,
     "metadata": {},
     "output_type": "execute_result"
    },
    {
     "data": {
      "image/png": "[encoded data removed]",
      "text/plain": [
       "<Figure size 640x480 with 1 Axes>"
      ]
     },
     "metadata": {},
     "output_type": "display_data"
    }
   ],
   "source": [
    "# Plot untuk Max Heart Rate (MHR)\n",
    "plt.subplot(3, 1, 3)\n",
    "plt.plot(x_mhr, mhr_low, label='Rendah', color='blue')\n",
    "plt.plot(x_mhr, mhr_normal, label='Normal', color='green')\n",
    "plt.plot(x_mhr, mhr_high, label='Tinggi', color='red')\n",
    "plt.title('Fuzzyfication Max Heart Rate')\n",
    "plt.xlabel('Max Heart Rate (MHR)')\n",
    "plt.ylabel('Keanggotaan')\n",
    "plt.legend()"
   ]
  },
  {
   "cell_type": "code",
   "execution_count": 515,
   "id": "252b76f0-0772-4b18-a1d9-21c4aee291cd",
   "metadata": {},
   "outputs": [
    {
     "data": {
      "text/plain": [
       "<Figure size 640x480 with 0 Axes>"
      ]
     },
     "metadata": {},
     "output_type": "display_data"
    }
   ],
   "source": [
    "# Menampilkan grafik\n",
    "plt.tight_layout()\n",
    "plt.show()"
   ]
  },
  {
   "cell_type": "code",
   "execution_count": 516,
   "id": "ff2003a6-07b8-4c91-8e7a-925c51bd26bb",
   "metadata": {},
   "outputs": [],
   "source": [
    "# Menghitung Fuzzy\n",
    "def fuzzify_age(age):\n",
    "    if age <= 35:\n",
    "        return 1, 0, 0\n",
    "    elif 35 < age <= 40:\n",
    "        return (40 - age) / 5, (age - 35) / 5, 0\n",
    "    elif 40 < age <= 55:\n",
    "        return 0, 1, 0\n",
    "    elif 55 < age <= 60:\n",
    "        return 0, (60 - age) / 5, (age - 55) / 5\n",
    "    else:\n",
    "        return 0, 0, 1\n",
    "        \n",
    "def fuzzify_kol(kol):\n",
    "    if kol <= 150:\n",
    "        return 1, 0, 0\n",
    "    elif 150 < kol <= 200:\n",
    "        return (200 - kol) / 50, (kol - 175) / 50, 0\n",
    "    elif 200 < kol <= 225:\n",
    "        return 0, (kol - 175) / 50, 0\n",
    "    elif 225 < kol <= 275:\n",
    "        return 0, (275 - kol) / 50, (kol - 250) / 50\n",
    "    elif 275 < kol <= 300:\n",
    "        return 0, 0, (kol - 250) / 50\n",
    "    else:\n",
    "        return 0, 0, 1\n",
    "        \n",
    "def fuzzify_mhr(mhr):\n",
    "    if mhr <= 80:\n",
    "        return 1, 0, 0\n",
    "    elif 80 < mhr <= 90:\n",
    "        return (90 - mhr) / 10, (mhr - 80) / 10, 0\n",
    "    elif 90 < mhr <= 150:\n",
    "        return 0, 1, 0\n",
    "    elif 150 < mhr <= 160:\n",
    "        return 0, (160 - mhr) / 10, (mhr - 150) / 10\n",
    "    else:\n",
    "        return 0, 0, 1"
   ]
  },
  {
   "cell_type": "markdown",
   "id": "97d70bef-3a8c-4421-a6bf-0923fa913b40",
   "metadata": {},
   "source": [
    "## Inference / Rule\n",
    "    \n",
    "| Umur        | Kolesterol | Max Heart Rate | Hasil           |\n",
    "|-------------|------------|----------------|-----------------|\n",
    "| Muda        | Rendah     | Rendah         | Beresiko        |\n",
    "| Muda        | Rendah     | Normal         | Tidak Beresiko  |\n",
    "| Muda        | Rendah     | Tinggi         | Tidak Beresiko  |\n",
    "| Muda        | Normal     | Rendah         | Beresiko        |\n",
    "| Muda        | Tinggi     | Rendah         | Beresiko        |\n",
    "| Muda        | Normal     | Normal         | Tidak Beresiko  |\n",
    "| Muda        | Normal     | Tinggi         | Tidak Beresiko  |\n",
    "| Muda        | Tinggi     | Normal         | Beresiko        |\n",
    "| Muda        | Tinggi     | Tinggi         | Beresiko        |\n",
    "| Paruh Baya  | Rendah     | Rendah         | Beresiko        |\n",
    "| Paruh Baya  | Rendah     | Normal         | Tidak Beresiko  |\n",
    "| Paruh Baya  | Rendah     | Tinggi         | Tidak Beresiko  |\n",
    "| Paruh Baya  | Normal     | Rendah         | Beresiko        |\n",
    "| Paruh Baya  | Tinggi     | Rendah         | Beresiko        |\n",
    "| Paruh Baya  | Normal     | Normal         | Tidak Beresiko  |\n",
    "| Paruh Baya  | Normal     | Tinggi         | Tidak Beresiko  |\n",
    "| Paruh Baya  | Tinggi     | Normal         | Beresiko        |\n",
    "| Paruh Baya  | Tinggi     | Tinggi         | Beresiko        |\n",
    "| Tua         | Rendah     | Rendah         | Beresiko        |\n",
    "| Tua         | Rendah     | Normal         | Beresiko        |\n",
    "| Tua         | Rendah     | Tinggi         | Beresiko        |\n",
    "| Tua         | Normal     | Rendah         | Beresiko        |\n",
    "| Tua         | Tinggi     | Rendah         | Beresiko        |\n",
    "| Tua         | Normal     | Normal         | Beresiko        |\n",
    "| Tua         | Normal     | Tinggi         | Beresiko        |\n",
    "| Tua         | Tinggi     | Normal         | Beresiko        |\n",
    "| Tua         | Tinggi     | Tinggi         | Beresiko        |"
   ]
  },
  {
   "cell_type": "code",
   "execution_count": 518,
   "id": "2e0e4261-6364-4302-99e2-21f43866d69b",
   "metadata": {},
   "outputs": [],
   "source": [
    "def rule(a, b, c):   \n",
    "    r1 = min(a[0], b[0], c[0])\n",
    "    \n",
    "    r2 = min(a[0], b[0], c[1])\n",
    "    \n",
    "    r3 = min(a[0], b[0], c[2])\n",
    "    \n",
    "    r4 = min(a[0], b[1], c[0])\n",
    "    \n",
    "    r5 = min(a[0], b[2], c[0])\n",
    "    \n",
    "    r6 = min(a[0], b[1], c[1])\n",
    "    \n",
    "    r7 = min(a[0], b[1], c[2])\n",
    "    \n",
    "    r8 = min(a[0], b[2], c[2])\n",
    "    \n",
    "    r9 = min(a[0], b[2], c[2])\n",
    "    \n",
    "    r10 = min(a[1], b[0], c[0])\n",
    "    \n",
    "    r11 = min(a[1], b[0], c[1])\n",
    "    \n",
    "    r12 = min(a[1], b[0], c[2])\n",
    "    \n",
    "    r13 = min(a[1], b[1], c[0])\n",
    "    \n",
    "    r14 = min(a[1], b[2], c[0])\n",
    "    \n",
    "    r15 = min(a[1], b[1], c[1])\n",
    "    \n",
    "    r16 = min(a[1], b[1], c[2])\n",
    "    \n",
    "    r17 = min(a[1], b[2], c[1])\n",
    "    \n",
    "    r18 = min(a[1], b[2], c[2])\n",
    "    \n",
    "    r19 = min(a[2], b[0], c[0])\n",
    "    \n",
    "    r20 = min(a[2], b[0], c[1])\n",
    "    \n",
    "    r21 = min(a[2], b[0], c[2])\n",
    "    \n",
    "    r22 = min(a[2], b[1], c[0])\n",
    "    \n",
    "    r23 = min(a[2], b[2], c[0])\n",
    "    \n",
    "    r24 = min(a[2], b[1], c[1])\n",
    "    \n",
    "    r25 = min(a[2], b[1], c[2])\n",
    "    \n",
    "    r26 = min(a[2], b[2], c[1])\n",
    "    \n",
    "    r27 = min(a[2], b[2], c[2])\n",
    "    \n",
    "    return max(r2, r3, r6, r7, r11, r12, r15, r16), max(r1, r4, r5, r8, r9, r10, r13, r14, r17, r18, r19, r20, r21, r22, r23, r24, r25, r26, r27)"
   ]
  },
  {
   "cell_type": "markdown",
   "id": "10497752-dfdf-4f7c-a033-83f99a05197e",
   "metadata": {},
   "source": [
    "## Defuzzification"
   ]
  },
  {
   "cell_type": "code",
   "execution_count": 520,
   "id": "fca62113-3fec-4697-a769-de29de58bb7c",
   "metadata": {},
   "outputs": [
    {
     "data": {
      "text/plain": [
       "<matplotlib.legend.Legend at 0x290e14ad310>"
      ]
     },
     "execution_count": 520,
     "metadata": {},
     "output_type": "execute_result"
    },
    {
     "data": {
      "image/png": "[encoded data removed]",
      "text/plain": [
       "<Figure size 640x480 with 1 Axes>"
      ]
     },
     "metadata": {},
     "output_type": "display_data"
    }
   ],
   "source": [
    "x_resiko = np.linspace(0,100, 1000)\n",
    "no_risk = trapmf(x_resiko, 0, 0, 50, 55)\n",
    "risk = trapmf(x_resiko, 50, 60, 100,100)\n",
    "plt.subplot(3, 1, 1)\n",
    "plt.plot(x_resiko, no_risk, label='Tidak Beresiko', color='green')\n",
    "plt.plot(x_resiko, risk, label='Resiko', color='red')\n",
    "plt.title('Resiko Serangan Jantung')\n",
    "plt.legend()"
   ]
  },
  {
   "cell_type": "code",
   "execution_count": 521,
   "id": "0405ea98-a77d-4b85-ae81-221dbd51c090",
   "metadata": {},
   "outputs": [],
   "source": [
    "def norisk(c, r):\n",
    "    if c <= 50:\n",
    "        if r <= 1:\n",
    "            return r\n",
    "        else:\n",
    "            return 1\n",
    "    elif 50 < c <= 55:\n",
    "        if r <= (55 - c) / 5:\n",
    "            return r\n",
    "        else:\n",
    "            return (55 - c) / 5\n",
    "    else:\n",
    "        return 0\n",
    "    \n",
    "def risk(c, r):\n",
    "    if c >= 60:\n",
    "        if r <= 1:\n",
    "            return r\n",
    "        else:\n",
    "            return 1\n",
    "    elif 50 < c <= 60:\n",
    "        if r <= (c - 50) / 10:\n",
    "            return r\n",
    "        else:\n",
    "            return (c - 50) / 10\n",
    "    else:\n",
    "        return 0"
   ]
  },
  {
   "cell_type": "markdown",
   "id": "5f18b66a-8bda-424f-9de2-138451c826cb",
   "metadata": {},
   "source": [
    "## Perhitungan"
   ]
  },
  {
   "cell_type": "code",
   "execution_count": 523,
   "id": "746f8096-e9a8-46ea-80cc-85dcddda60cf",
   "metadata": {},
   "outputs": [],
   "source": [
    "d = [(40, 289, 172), (49, 180, 156), (37, 283, 98), (48, 214, 108)]\n",
    "\n",
    "age = []\n",
    "kol = []\n",
    "mhr = []\n",
    "\n",
    "for i in range(len(d)):\n",
    "    age.append(fuzzify_age(d[i][0]))\n",
    "    kol.append(fuzzify_kol(d[i][1]))\n",
    "    mhr.append(fuzzify_mhr(d[i][1]))"
   ]
  },
  {
   "cell_type": "code",
   "execution_count": 524,
   "id": "e112ea86-91c8-400d-834a-1fd6cfc1d221",
   "metadata": {},
   "outputs": [
    {
     "name": "stdout",
     "output_type": "stream",
     "text": [
      "Orang ke-1\n",
      "Nilai keanggotaan umur: \n",
      "Muda: 0.0\n",
      "Paruh baya: 1.0\n",
      "Tua: 0\n",
      "\n",
      "Nilai keanggotaan kolesterol: \n",
      "Rendah: 0\n",
      "Normal: 0\n",
      "Tinggi: 0.78\n",
      "\n",
      "Nilai keanggotaan maximum heart rate: \n",
      "Rendah: 0\n",
      "Normal: 0\n",
      "Tinggi: 1\n",
      "\n",
      "\n",
      "Orang ke-2\n",
      "Nilai keanggotaan umur: \n",
      "Muda: 0\n",
      "Paruh baya: 1\n",
      "Tua: 0\n",
      "\n",
      "Nilai keanggotaan kolesterol: \n",
      "Rendah: 0.4\n",
      "Normal: 0.1\n",
      "Tinggi: 0\n",
      "\n",
      "Nilai keanggotaan maximum heart rate: \n",
      "Rendah: 0\n",
      "Normal: 0\n",
      "Tinggi: 1\n",
      "\n",
      "\n",
      "Orang ke-3\n",
      "Nilai keanggotaan umur: \n",
      "Muda: 0.6\n",
      "Paruh baya: 0.4\n",
      "Tua: 0\n",
      "\n",
      "Nilai keanggotaan kolesterol: \n",
      "Rendah: 0\n",
      "Normal: 0\n",
      "Tinggi: 0.66\n",
      "\n",
      "Nilai keanggotaan maximum heart rate: \n",
      "Rendah: 0\n",
      "Normal: 0\n",
      "Tinggi: 1\n",
      "\n",
      "\n",
      "Orang ke-4\n",
      "Nilai keanggotaan umur: \n",
      "Muda: 0\n",
      "Paruh baya: 1\n",
      "Tua: 0\n",
      "\n",
      "Nilai keanggotaan kolesterol: \n",
      "Rendah: 0\n",
      "Normal: 0.78\n",
      "Tinggi: 0\n",
      "\n",
      "Nilai keanggotaan maximum heart rate: \n",
      "Rendah: 0\n",
      "Normal: 0\n",
      "Tinggi: 1\n",
      "\n",
      "\n"
     ]
    }
   ],
   "source": [
    "for i in range(len(d)):\n",
    "    print(f\"Orang ke-{i+1}\")\n",
    "    print(\"Nilai keanggotaan umur: \")\n",
    "    print(f\"Muda: {age[i][0]}\")\n",
    "    print(f\"Paruh baya: {age[i][1]}\")\n",
    "    print(f\"Tua: {age[i][2]}\\n\")\n",
    "    \n",
    "    print(\"Nilai keanggotaan kolesterol: \")\n",
    "    print(f\"Rendah: {kol[i][0]}\")\n",
    "    print(f\"Normal: {kol[i][1]}\")\n",
    "    print(f\"Tinggi: {kol[i][2]}\\n\")\n",
    "    \n",
    "    print(\"Nilai keanggotaan maximum heart rate: \")\n",
    "    print(f\"Rendah: {mhr[i][0]}\")\n",
    "    print(f\"Normal: {mhr[i][1]}\")\n",
    "    print(f\"Tinggi: {mhr[i][2]}\\n\\n\")"
   ]
  },
  {
   "cell_type": "code",
   "execution_count": 525,
   "id": "43e2aa47-418b-49d3-8046-0ed9326ffb58",
   "metadata": {},
   "outputs": [
    {
     "name": "stdout",
     "output_type": "stream",
     "text": [
      "Nilai fuzzy mamdani orang ke-1: 77\n",
      "Beresiko\n",
      "Nilai fuzzy mamdani orang ke-2: 25\n",
      "Tidak Beresiko\n",
      "Nilai fuzzy mamdani orang ke-3: 76\n",
      "Beresiko\n",
      "Nilai fuzzy mamdani orang ke-4: 25\n",
      "Tidak Beresiko\n"
     ]
    }
   ],
   "source": [
    "# Mamdani\n",
    "# tdk beresiko = 0 - 60\n",
    "# tdk beresiko = 50 - 100\n",
    "# Nilai random crisp = 5, 15, 25, 35, 45, 55, 65, 75, 85, 95\n",
    "\n",
    "zmamdani = []\n",
    "\n",
    "for i in range(len(d)):\n",
    "    res0, res1 = rule(age[i], kol[i], mhr[i])\n",
    "    \n",
    "    c1 = max(norisk(5, res0), risk(5, res1))\n",
    "    c2 = max(norisk(15, res0), risk(15, res1))\n",
    "    c3 = max(norisk(25, res0), risk(25, res1))\n",
    "    c4 = max(norisk(35, res0), risk(35, res1))\n",
    "    c5 = max(norisk(45, res0), risk(45, res1))\n",
    "    c6 = max(norisk(55, res0), risk(55, res1))\n",
    "    c7 = max(norisk(65, res0), risk(65, res1))\n",
    "    c8 = max(norisk(75, res0), risk(75, res1))\n",
    "    c9 = max(norisk(85, res0), risk(85, res1))\n",
    "    c10 = max(norisk(95, res0), risk(95, res1))\n",
    "    \n",
    "    zmamdani.append(((c1 * 5) + (c2 * 15) + (c3 * 25) + (c4 * 35) + (c5 * 45) + (c6 * 55) + (c7 * 65) + (c8 * 75) + (c9 * 85) + (c10 * 95)) / (c1 + c2 + c3 + c4 + c5 + c6 + c7 + c8 + c9 + c10))\n",
    "\n",
    "    print(f\"Nilai fuzzy mamdani orang ke-{i+1}: {zmamdani[i]:.0f}\")\n",
    "    if zmamdani[i] <= 50:\n",
    "        print(\"Tidak Beresiko\")\n",
    "    elif 50 < zmamdani[i] <= 55:\n",
    "        noresiko = (55 - z) / 5\n",
    "        resiko = (z - 50) / 10\n",
    "        if noresiko >= resiko:\n",
    "            print(\"Tidak Beresiko\")\n",
    "        else:\n",
    "            print(\"Beresiko\")\n",
    "    else:\n",
    "        print(\"Beresiko\")"
   ]
  },
  {
   "cell_type": "code",
   "execution_count": 549,
   "id": "b72abdc6-69e4-4de8-966d-c6c03bb75de3",
   "metadata": {},
   "outputs": [
    {
     "name": "stdout",
     "output_type": "stream",
     "text": [
      "Nilai fuzzy sugeno orang ke-1: 100\n",
      "Nilai fuzzy sugeno orang ke-2: 40\n",
      "Nilai fuzzy sugeno orang ke-3: 100\n",
      "Nilai fuzzy sugeno orang ke-4: 40\n"
     ]
    }
   ],
   "source": [
    "# Sugeno\n",
    "# tidak beresiko = 40\n",
    "# resiko 100\n",
    "\n",
    "zsugeno = []\n",
    "\n",
    "for i in range(len(d)):\n",
    "    res0, res1 = rule(age[i], kol[i], mhr[i])\n",
    "    zsugeno.append(((40 * res0) + (100 * res1)) / (res0 + res1))\n",
    "    print(f\"Nilai fuzzy sugeno orang ke-{i+1}: {zsugeno[i]:.0f}\")"
   ]
  },
  {
   "cell_type": "markdown",
   "id": "945b2f57-5523-47ff-b659-7c2d917a2333",
   "metadata": {},
   "source": [
    "#### "
   ]
  }
 ],
 "metadata": {
  "kernelspec": {
   "display_name": "Python [conda env:base] *",
   "language": "python",
   "name": "conda-base-py"
  },
  "language_info": {
   "codemirror_mode": {
    "name": "ipython",
    "version": 3
   },
   "file_extension": ".py",
   "mimetype": "text/x-python",
   "name": "python",
   "nbconvert_exporter": "python",
   "pygments_lexer": "ipython3",
   "version": "3.12.7"
  }
 },
 "nbformat": 4,
 "nbformat_minor": 5
}
